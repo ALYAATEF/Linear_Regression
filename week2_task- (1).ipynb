{
 "cells": [
  {
   "cell_type": "markdown",
   "id": "10bdc954",
   "metadata": {},
   "source": [
    "<h1><center><center><h1><h1><center><span style=\"color:#2189b5\">Linear Regression with Multiple Variables</span><center><h1>"
   ]
  },
  {
   "cell_type": "markdown",
   "id": "bcfaf985",
   "metadata": {},
   "source": [
    "## In this notebook, we will implement linear regression with multiple variables to predict the prices of houses, using scikit-learn.\n",
    "\n",
    "### Introduction :\n",
    "Suppose you are selling your house and want to know what would be a good price to list it at. You have a dataset of houses with features such as the size of the house, the number of bedrooms, and the age of the house, along with their corresponding prices.\n",
    "\n",
    "You would like to use this data to build a linear regression model that can predict the price of a house based on its features.\n",
    "\n",
    "### This notebook contains :\n",
    "The dataset for our linear regression problem. The first column is the size of the house in square feet, the second column is the number of bedrooms, and the third column is the House Age, forth column is the Price of the house.\n",
    "\n",
    "### Task : \n",
    "Build a linear regression model to predict the price of a house based on its size and number of bedrooms, using scikit-learn.\n",
    "\n",
    "1.Perform exploratory data analysis (EDA) to understand the dataset.<br>\n",
    "2.Implement feature scaling to normalize the features.<br>\n",
    "3.Use scikit-learn's LinearRegression model to fit the data and learn the parameters.<br>\n",
    "4.Use the trained model to predict the price of a house with 1650 square feet and 3 bedrooms.\n",
    "\n",
    "### Bonus Task : \n",
    "1.Implement gradient descent or normal equation to solve for the optimal parameters without using scikit-learn.<br>\n",
    "2.Compare the results of the scikit-learn model with the results from the custom implementation."
   ]
  },
  {
   "cell_type": "markdown",
   "id": "9fcf8323",
   "metadata": {},
   "source": [
    "# Libraries you will need :\n"
   ]
  },
  {
   "cell_type": "code",
   "execution_count": 1,
   "id": "b3fb09bc",
   "metadata": {},
   "outputs": [],
   "source": [
    "import pandas as pd\n",
    "import numpy as np\n",
    "import matplotlib.pyplot as plt\n",
    "import seaborn as sns"
   ]
  },
  {
   "cell_type": "code",
   "execution_count": 2,
   "id": "b7fab52c",
   "metadata": {},
   "outputs": [],
   "source": [
    "import warnings\n",
    "warnings.filterwarnings('ignore')"
   ]
  },
  {
   "cell_type": "markdown",
   "id": "3e69a60d",
   "metadata": {},
   "source": [
    "# The Dataset :\n",
    "### Just run this code for the datasets..."
   ]
  },
  {
   "cell_type": "code",
   "execution_count": 3,
   "id": "f8406734",
   "metadata": {},
   "outputs": [
    {
     "data": {
      "text/html": [
       "<div>\n",
       "<style scoped>\n",
       "    .dataframe tbody tr th:only-of-type {\n",
       "        vertical-align: middle;\n",
       "    }\n",
       "\n",
       "    .dataframe tbody tr th {\n",
       "        vertical-align: top;\n",
       "    }\n",
       "\n",
       "    .dataframe thead th {\n",
       "        text-align: right;\n",
       "    }\n",
       "</style>\n",
       "<table border=\"1\" class=\"dataframe\">\n",
       "  <thead>\n",
       "    <tr style=\"text-align: right;\">\n",
       "      <th></th>\n",
       "      <th>Size</th>\n",
       "      <th>Bedrooms</th>\n",
       "      <th>House Age</th>\n",
       "      <th>Price</th>\n",
       "    </tr>\n",
       "  </thead>\n",
       "  <tbody>\n",
       "    <tr>\n",
       "      <th>0</th>\n",
       "      <td>1500</td>\n",
       "      <td>3</td>\n",
       "      <td>10</td>\n",
       "      <td>250000</td>\n",
       "    </tr>\n",
       "    <tr>\n",
       "      <th>1</th>\n",
       "      <td>2000</td>\n",
       "      <td>4</td>\n",
       "      <td>5</td>\n",
       "      <td>350000</td>\n",
       "    </tr>\n",
       "    <tr>\n",
       "      <th>2</th>\n",
       "      <td>1600</td>\n",
       "      <td>3</td>\n",
       "      <td>8</td>\n",
       "      <td>275000</td>\n",
       "    </tr>\n",
       "    <tr>\n",
       "      <th>3</th>\n",
       "      <td>1200</td>\n",
       "      <td>2</td>\n",
       "      <td>15</td>\n",
       "      <td>200000</td>\n",
       "    </tr>\n",
       "    <tr>\n",
       "      <th>4</th>\n",
       "      <td>1800</td>\n",
       "      <td>3</td>\n",
       "      <td>3</td>\n",
       "      <td>320000</td>\n",
       "    </tr>\n",
       "    <tr>\n",
       "      <th>5</th>\n",
       "      <td>2200</td>\n",
       "      <td>4</td>\n",
       "      <td>2</td>\n",
       "      <td>400000</td>\n",
       "    </tr>\n",
       "    <tr>\n",
       "      <th>6</th>\n",
       "      <td>1300</td>\n",
       "      <td>2</td>\n",
       "      <td>12</td>\n",
       "      <td>220000</td>\n",
       "    </tr>\n",
       "    <tr>\n",
       "      <th>7</th>\n",
       "      <td>1900</td>\n",
       "      <td>4</td>\n",
       "      <td>6</td>\n",
       "      <td>380000</td>\n",
       "    </tr>\n",
       "    <tr>\n",
       "      <th>8</th>\n",
       "      <td>2100</td>\n",
       "      <td>4</td>\n",
       "      <td>4</td>\n",
       "      <td>390000</td>\n",
       "    </tr>\n",
       "    <tr>\n",
       "      <th>9</th>\n",
       "      <td>1700</td>\n",
       "      <td>3</td>\n",
       "      <td>9</td>\n",
       "      <td>300000</td>\n",
       "    </tr>\n",
       "    <tr>\n",
       "      <th>10</th>\n",
       "      <td>1400</td>\n",
       "      <td>2</td>\n",
       "      <td>13</td>\n",
       "      <td>240000</td>\n",
       "    </tr>\n",
       "    <tr>\n",
       "      <th>11</th>\n",
       "      <td>2000</td>\n",
       "      <td>4</td>\n",
       "      <td>7</td>\n",
       "      <td>350000</td>\n",
       "    </tr>\n",
       "    <tr>\n",
       "      <th>12</th>\n",
       "      <td>1100</td>\n",
       "      <td>2</td>\n",
       "      <td>14</td>\n",
       "      <td>190000</td>\n",
       "    </tr>\n",
       "    <tr>\n",
       "      <th>13</th>\n",
       "      <td>1300</td>\n",
       "      <td>2</td>\n",
       "      <td>11</td>\n",
       "      <td>230000</td>\n",
       "    </tr>\n",
       "    <tr>\n",
       "      <th>14</th>\n",
       "      <td>1500</td>\n",
       "      <td>3</td>\n",
       "      <td>10</td>\n",
       "      <td>260000</td>\n",
       "    </tr>\n",
       "    <tr>\n",
       "      <th>15</th>\n",
       "      <td>1700</td>\n",
       "      <td>3</td>\n",
       "      <td>8</td>\n",
       "      <td>280000</td>\n",
       "    </tr>\n",
       "    <tr>\n",
       "      <th>16</th>\n",
       "      <td>1900</td>\n",
       "      <td>4</td>\n",
       "      <td>5</td>\n",
       "      <td>360000</td>\n",
       "    </tr>\n",
       "    <tr>\n",
       "      <th>17</th>\n",
       "      <td>2100</td>\n",
       "      <td>4</td>\n",
       "      <td>2</td>\n",
       "      <td>400000</td>\n",
       "    </tr>\n",
       "    <tr>\n",
       "      <th>18</th>\n",
       "      <td>2300</td>\n",
       "      <td>4</td>\n",
       "      <td>1</td>\n",
       "      <td>420000</td>\n",
       "    </tr>\n",
       "    <tr>\n",
       "      <th>19</th>\n",
       "      <td>2500</td>\n",
       "      <td>5</td>\n",
       "      <td>6</td>\n",
       "      <td>450000</td>\n",
       "    </tr>\n",
       "  </tbody>\n",
       "</table>\n",
       "</div>"
      ],
      "text/plain": [
       "    Size  Bedrooms  House Age   Price\n",
       "0   1500         3         10  250000\n",
       "1   2000         4          5  350000\n",
       "2   1600         3          8  275000\n",
       "3   1200         2         15  200000\n",
       "4   1800         3          3  320000\n",
       "5   2200         4          2  400000\n",
       "6   1300         2         12  220000\n",
       "7   1900         4          6  380000\n",
       "8   2100         4          4  390000\n",
       "9   1700         3          9  300000\n",
       "10  1400         2         13  240000\n",
       "11  2000         4          7  350000\n",
       "12  1100         2         14  190000\n",
       "13  1300         2         11  230000\n",
       "14  1500         3         10  260000\n",
       "15  1700         3          8  280000\n",
       "16  1900         4          5  360000\n",
       "17  2100         4          2  400000\n",
       "18  2300         4          1  420000\n",
       "19  2500         5          6  450000"
      ]
     },
     "execution_count": 3,
     "metadata": {},
     "output_type": "execute_result"
    }
   ],
   "source": [
    "house_sizes = [1500, 2000, 1600, 1200, 1800, 2200, 1300, 1900, 2100, 1700, 1400, 2000, 1100, 1300, 1500, 1700, 1900, 2100, 2300, 2500]\n",
    "bedrooms = [3, 4, 3, 2, 3, 4, 2, 4, 4, 3, 2, 4, 2, 2, 3, 3, 4, 4, 4, 5]\n",
    "ages = [10, 5, 8, 15, 3, 2, 12, 6, 4, 9, 13, 7, 14, 11, 10, 8, 5, 2, 1, 6]\n",
    "prices = [250000, 350000, 275000, 200000, 320000, 400000, 220000, 380000, 390000, 300000, 240000, 350000, 190000, 230000, 260000, 280000, 360000, 400000, 420000, 450000]\n",
    "\n",
    "df = pd.DataFrame({'Size': house_sizes, 'Bedrooms': bedrooms, 'House Age': ages, 'Price': prices})\n",
    "df"
   ]
  },
  {
   "cell_type": "markdown",
   "id": "895e777a",
   "metadata": {},
   "source": [
    "<h1><font color='#2189b5'> Perform exploratory data analysis (EDA) to understand the dataset.</font></h1>\n",
    "<br><br>"
   ]
  },
  {
   "cell_type": "markdown",
   "id": "1e87ec8a",
   "metadata": {},
   "source": [
    "#### 1 - First understand how does each feature in the dataset effects the `price` of the house :"
   ]
  },
  {
   "cell_type": "code",
   "execution_count": 4,
   "id": "546180d4",
   "metadata": {},
   "outputs": [
    {
     "data": {
      "image/png": "[encoded data removed]",
      "text/plain": [
       "<Figure size 1080x288 with 3 Axes>"
      ]
     },
     "metadata": {
      "needs_background": "light"
     },
     "output_type": "display_data"
    }
   ],
   "source": [
    "## 1 - Write your code here :\n",
    "\n",
    "fig, ax = plt.subplots(1,3, figsize= (15,4), sharex= True )\n",
    "\n",
    "ax[0].scatter(x= df['Price'], y=df['Size'])\n",
    "ax[1].scatter(x= df['Price'], y=df['Bedrooms'])\n",
    "ax[2].scatter(x= df['Price'], y=df['House Age'])\n",
    "\n",
    "plt.show()"
   ]
  },
  {
   "cell_type": "markdown",
   "id": "d2c577db",
   "metadata": {},
   "source": [
    "<details>\n",
    "    <summary><Font color='blue'>Click for a hint</Font></summary>\n",
    "    <br><br>\n",
    "    Use Scatter Plots ;)\n",
    "</details>\n",
    "\n",
    "<br><br>"
   ]
  },
  {
   "cell_type": "markdown",
   "id": "ec8b29ba",
   "metadata": {},
   "source": [
    "#### 2 - Second Visualize the distribution of each of the continous features of the data :"
   ]
  },
  {
   "cell_type": "code",
   "execution_count": 5,
   "id": "f8c4c5fb",
   "metadata": {},
   "outputs": [
    {
     "data": {
      "image/png": "[encoded data removed]",
      "text/plain": [
       "<Figure size 1080x288 with 3 Axes>"
      ]
     },
     "metadata": {
      "needs_background": "light"
     },
     "output_type": "display_data"
    }
   ],
   "source": [
    "## 2 - Write your code here :\n",
    "\n",
    "fig, ax = plt.subplots(1,3, figsize= (15,4))\n",
    "\n",
    "sns.kdeplot(df['Size'], ax=ax[0])\n",
    "sns.kdeplot(df['House Age'], ax=ax[1])\n",
    "sns.kdeplot(df['Price'], ax=ax[2])\n",
    "\n",
    "\n",
    "ax[0].set_title('distribution of the Size')\n",
    "ax[1].set_title('distribution of the House Age')\n",
    "ax[2].set_title('distribution of the Price')\n",
    "\n",
    "\n",
    "\n",
    "plt.show()"
   ]
  },
  {
   "cell_type": "markdown",
   "id": "9f8114e3",
   "metadata": {},
   "source": [
    "<details>\n",
    "    <summary><Font color='blue'>Click for a hint</Font></summary>\n",
    "    <br><br>\n",
    "    Use KDE Plots ;)\n",
    "</details>\n",
    "\n",
    "<br><br>"
   ]
  },
  {
   "cell_type": "markdown",
   "id": "01b9ef2f",
   "metadata": {},
   "source": [
    "<h1><font color='#2189b5'>Briefly describe the insights you got after visualizing the data :</font></h1>\n",
    "<br><br>"
   ]
  },
  {
   "cell_type": "markdown",
   "id": "1704d9b0",
   "metadata": {},
   "source": [
    "## 3 - Write what you noticed here :\n",
    "\n",
    "* the continuous varibles are normally distributed so it doesn't need any transformation\n",
    "* the numeric data has different scales so it needs to be scaled\n",
    "* the price has positive relation with the `Size` and `Bedrooms` variables but it has a negative one with the `House Age` which makes sense"
   ]
  },
  {
   "cell_type": "markdown",
   "id": "ff9678a8",
   "metadata": {},
   "source": [
    "<h1><font color='#2189b5'>Look again at the dataframe then...</font></h1><br>\n",
    "- Store the target variable (price) in a variable y.<br>\n",
    "- Store the features in variable x.\n"
   ]
  },
  {
   "cell_type": "code",
   "execution_count": 6,
   "id": "4dc7a2f6",
   "metadata": {},
   "outputs": [],
   "source": [
    "# 4 - Write your code here :\n",
    "\n",
    "y= df['Price']\n",
    "x= df.drop(['Price'], axis=1)"
   ]
  },
  {
   "cell_type": "markdown",
   "id": "56cc2fc4",
   "metadata": {},
   "source": [
    "<h1><font color='#2189b5'>Now for data preprocessing... implement feature scaling to normalize the features. </font></h1>\n",
    "<br><br>"
   ]
  },
  {
   "cell_type": "markdown",
   "id": "973b2c3b",
   "metadata": {},
   "source": [
    "#### there is many scaling methods found in sklearn.preprocessing \n",
    "https://scikit-learn.org/stable/modules/preprocessing.html"
   ]
  },
  {
   "cell_type": "markdown",
   "id": "f0f4baf8",
   "metadata": {},
   "source": [
    "#### Use Scaling to scale the features (Note you only scale x) :"
   ]
  },
  {
   "cell_type": "code",
   "execution_count": 7,
   "id": "a39dcd70",
   "metadata": {},
   "outputs": [],
   "source": [
    "## 5 - write your code here :\n",
    "\n",
    "from sklearn.preprocessing import MinMaxScaler\n",
    "\n",
    "min_max_scaler= MinMaxScaler(feature_range=(-1,1))\n",
    "\n",
    "x_train= pd.DataFrame(min_max_scaler.fit_transform(x))"
   ]
  },
  {
   "cell_type": "markdown",
   "id": "a77698bd",
   "metadata": {},
   "source": [
    "<h1><font color='#2189b5'>Based on the previous data let's build our Machine Learning model...</font></h1>\n",
    "<br><br>"
   ]
  },
  {
   "cell_type": "markdown",
   "id": "529e7c77",
   "metadata": {},
   "source": [
    "#### import linear regression from sklearn"
   ]
  },
  {
   "cell_type": "code",
   "execution_count": 8,
   "id": "b8b93225",
   "metadata": {},
   "outputs": [],
   "source": [
    "# 6 - Write your code here :\n",
    "\n",
    "from sklearn.linear_model import LinearRegression\n"
   ]
  },
  {
   "cell_type": "markdown",
   "id": "e9f56dc3",
   "metadata": {},
   "source": [
    "<details>\n",
    "    <summary><Font color='blue'>Click for a hint</Font></summary>\n",
    "    <br><br>\n",
    "    from sklearn.linear_model import LinearRegression\n",
    "</details>\n",
    "\n",
    "<br><br>"
   ]
  },
  {
   "cell_type": "markdown",
   "id": "aba7b22a",
   "metadata": {},
   "source": [
    "#### Ok remember that we imported LinearRegression from sklearn, now We want to create object from this class....<br><br>Make object from LinearRegression class and name it as `lr`"
   ]
  },
  {
   "cell_type": "code",
   "execution_count": 9,
   "id": "6651378a",
   "metadata": {},
   "outputs": [],
   "source": [
    "# 7 - Write your code here :\n",
    "\n",
    "lr= LinearRegression()\n"
   ]
  },
  {
   "cell_type": "markdown",
   "id": "73ff879f",
   "metadata": {},
   "source": [
    "#### Fit your linear regression model on the training data that you have, which is x and y..."
   ]
  },
  {
   "cell_type": "code",
   "execution_count": 10,
   "id": "813b9edd",
   "metadata": {},
   "outputs": [
    {
     "data": {
      "text/plain": [
       "LinearRegression()"
      ]
     },
     "execution_count": 10,
     "metadata": {},
     "output_type": "execute_result"
    }
   ],
   "source": [
    "# 8 - Write your code here :\n",
    "\n",
    "lr.fit(x, y)\n"
   ]
  },
  {
   "cell_type": "markdown",
   "id": "154f883d",
   "metadata": {},
   "source": [
    "#### Let's have a look on the parameters of the model that you trained :)"
   ]
  },
  {
   "cell_type": "code",
   "execution_count": 11,
   "id": "9e4dbca0",
   "metadata": {},
   "outputs": [
    {
     "data": {
      "text/plain": [
       "(30909.226140731247, array([  142.31756644, 15663.56342972, -2428.22998496]))"
      ]
     },
     "execution_count": 11,
     "metadata": {},
     "output_type": "execute_result"
    }
   ],
   "source": [
    "# 9 - Write your code here :\n",
    "\n",
    "lr.intercept_, lr.coef_"
   ]
  },
  {
   "cell_type": "markdown",
   "id": "2258b014",
   "metadata": {},
   "source": [
    "<details>\n",
    "    <summary><Font color='blue'>Click for a hint</Font></summary>\n",
    "    <br><br>\n",
    "    to get weights use : lr.coef_ <br><br>\n",
    "    to get bias use : lr.intercept_\n",
    "</details>\n",
    "\n",
    "<br><br>"
   ]
  },
  {
   "cell_type": "markdown",
   "id": "f34fbcfb",
   "metadata": {},
   "source": [
    "\n",
    "<h1><font color='#2189b5'>Now your model is trained and it is now ready for making new predictions</font></h1>\n",
    "<h3><font color='blue'>Note that to make new predictions you should make same scaling and preprocessing on the new test data also...</font></h3>\n",
    "<br><br>"
   ]
  },
  {
   "cell_type": "markdown",
   "id": "b0d1a193",
   "metadata": {},
   "source": [
    "#### Use the trained model to predict the price of a house with `1650 square feet`, `3 bedrooms` and `7 years age`."
   ]
  },
  {
   "cell_type": "code",
   "execution_count": 12,
   "id": "0490889c",
   "metadata": {},
   "outputs": [
    {
     "data": {
      "text/plain": [
       "array([26004.4317073])"
      ]
     },
     "execution_count": 12,
     "metadata": {},
     "output_type": "execute_result"
    }
   ],
   "source": [
    "# 10 - Write your code here :\n",
    "values = np.array([[1650, 3, 7]])\n",
    "\n",
    "scaled_values= min_max_scaler.transform(values)\n",
    "\n",
    "price= lr.predict(scaled_values)\n",
    "\n",
    "price"
   ]
  },
  {
   "cell_type": "markdown",
   "id": "1e64949f",
   "metadata": {},
   "source": [
    "<br><br>\n",
    "<h1><font color='BLUE'>BONUS Questions : </font></h1>"
   ]
  },
  {
   "cell_type": "markdown",
   "id": "17ef5870",
   "metadata": {},
   "source": [
    "#### Implement gradient descent or normal equation to solve for the optimal parameters without using scikit-learn."
   ]
  },
  {
   "cell_type": "code",
   "execution_count": 13,
   "id": "2c3f0d48",
   "metadata": {},
   "outputs": [
    {
     "data": {
      "text/plain": [
       "array([30909.22614075,   142.31756644, 15663.56342972, -2428.22998496])"
      ]
     },
     "execution_count": 13,
     "metadata": {},
     "output_type": "execute_result"
    }
   ],
   "source": [
    "from sklearn.preprocessing import add_dummy_feature\n",
    "\n",
    "x_b = add_dummy_feature(x) # add x0 = 1 to each instance\n",
    "\n",
    "theta_best = np.linalg.inv(x_b.T @ x_b) @ x_b.T @ y\n",
    "\n",
    "theta_best\n"
   ]
  },
  {
   "cell_type": "markdown",
   "id": "684044a2",
   "metadata": {},
   "source": [
    "#### Compare the results of the scikit-learn model with the results from the custom implementation."
   ]
  },
  {
   "cell_type": "code",
   "execution_count": 14,
   "id": "f20122b8",
   "metadata": {},
   "outputs": [
    {
     "data": {
      "text/plain": [
       "array([26004.43170732])"
      ]
     },
     "execution_count": 14,
     "metadata": {},
     "output_type": "execute_result"
    }
   ],
   "source": [
    "## Write your code here :\n",
    "\n",
    "values = np.array([[1650, 3, 7]])\n",
    "\n",
    "scaled_values= min_max_scaler.transform(values)\n",
    "\n",
    "scaled_values_b = add_dummy_feature(scaled_values) # add x0 = 1 to each instance\n",
    "\n",
    "price = scaled_values_b @ theta_best\n",
    "\n",
    "price"
   ]
  }
 ],
 "metadata": {
  "kernelspec": {
   "display_name": "Python 3 (ipykernel)",
   "language": "python",
   "name": "python3"
  },
  "language_info": {
   "codemirror_mode": {
    "name": "ipython",
    "version": 3
   },
   "file_extension": ".py",
   "mimetype": "text/x-python",
   "name": "python",
   "nbconvert_exporter": "python",
   "pygments_lexer": "ipython3",
   "version": "3.9.7"
  }
 },
 "nbformat": 4,
 "nbformat_minor": 5
}
